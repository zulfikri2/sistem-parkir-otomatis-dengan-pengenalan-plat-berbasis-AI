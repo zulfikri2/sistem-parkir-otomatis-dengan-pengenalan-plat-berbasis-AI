{
 "cells": [
  {
   "cell_type": "markdown",
   "metadata": {
    "id": "O2YObFcHpMeG"
   },
   "source": [
    "## Training Data"
   ]
  },
  {
   "cell_type": "code",
   "execution_count": 1,
   "metadata": {
    "colab": {
     "base_uri": "https://localhost:8080/"
    },
    "id": "Lo2vRpbkl7Po",
    "outputId": "9046a850-325f-45ea-9cae-23ad28af2e27"
   },
   "outputs": [
    {
     "name": "stderr",
     "output_type": "stream",
     "text": [
      "[nltk_data] Downloading package punkt to\n",
      "[nltk_data]     C:\\Users\\Rama\\AppData\\Roaming\\nltk_data...\n",
      "[nltk_data]   Package punkt is already up-to-date!\n",
      "[nltk_data] Downloading package wordnet to\n",
      "[nltk_data]     C:\\Users\\Rama\\AppData\\Roaming\\nltk_data...\n",
      "[nltk_data]   Package wordnet is already up-to-date!\n",
      "[nltk_data] Downloading package omw-1.4 to\n",
      "[nltk_data]     C:\\Users\\Rama\\AppData\\Roaming\\nltk_data...\n",
      "[nltk_data]   Package omw-1.4 is already up-to-date!\n"
     ]
    }
   ],
   "source": [
    "import numpy as np\n",
    "from keras.models import Sequential\n",
    "from keras.layers import Dense, Activation, Dropout\n",
    "from tensorflow.keras.optimizers import SGD\n",
    "import random\n",
    "\n",
    "import nltk\n",
    "nltk.download('punkt')\n",
    "nltk.download('wordnet')\n",
    "nltk.download('omw-1.4')\n",
    "from nltk.stem import WordNetLemmatizer\n",
    "lemmatizer = WordNetLemmatizer()\n",
    "import json\n",
    "import pickle"
   ]
  },
  {
   "cell_type": "code",
   "execution_count": 2,
   "metadata": {
    "id": "HkWuQkJtnrqa"
   },
   "outputs": [],
   "source": [
    "words=[]\n",
    "classes = []\n",
    "documents = []\n",
    "ignore_letters = ['!', '?', ',', '.']\n",
    "intents_file = open('intents.json').read()\n",
    "intents = json.loads(intents_file)"
   ]
  },
  {
   "cell_type": "code",
   "execution_count": 3,
   "metadata": {
    "colab": {
     "base_uri": "https://localhost:8080/"
    },
    "id": "Hkgr2MbroLmG",
    "outputId": "1d081406-c335-4869-b5ee-85f124afa182"
   },
   "outputs": [
    {
     "name": "stdout",
     "output_type": "stream",
     "text": [
      "[(['Halo'], 'greeting'), (['Apa', 'kabar'], 'greeting'), (['Ada', 'orang', 'disana', '?'], 'greeting'), (['Hei'], 'greeting'), (['Woy'], 'greeting'), (['Kuy'], 'greeting'), (['Salam'], 'greeting'), (['Assalamualaikum'], 'salam'), (['Bye'], 'goodbye'), (['Sampai', 'Jumpa'], 'goodbye'), (['Selamat', 'Tinggal'], 'goodbye'), (['Dadah'], 'goodbye'), (['Dahh'], 'goodbye'), (['Terima', 'kasih'], 'thanks'), (['Makasih'], 'thanks'), (['Thanks'], 'thanks'), (['Terima', 'Kasih', 'Banyak'], 'thanks'), (['Terima', 'kasih', 'telah', 'membantu', 'saya'], 'thanks'), (['Bisakah', 'kamu', 'membantuku', '?'], 'options'), (['Apa', 'yang', 'bisa', 'kamu', 'lakukan', '?'], 'options'), (['Apa', 'yang', 'kamu', 'tawarkan', '?'], 'options'), (['Bagaimana', 'kamu', 'sangat', 'membantu', '?'], 'options'), (['Kamu', 'bisa', 'bantu', 'aku', '?'], 'options'), (['Bagaimana', 'cara', 'memeriksa', 'reaksi', 'obat', 'yang', 'merugikan', '?'], 'adverse_drug'), (['Buka', 'modul', 'obat', 'yang', 'merugikan'], 'adverse_drug'), (['Beri', 'saya', 'daftar', 'obat-obatan', 'yang', 'menyebabkan', 'perilaku', 'buruk'], 'adverse_drug'), (['Daftar', 'semua', 'obat', 'yang', 'cocok', 'untuk', 'pasien', 'dengan', 'reaksi', 'merugikan'], 'adverse_drug'), (['Obat', 'mana', 'yang', 'tidak', 'memiliki', 'efek', 'samping', '?'], 'adverse_drug'), (['Buka', 'modul', 'tekanan', 'darah'], 'blood_pressure'), (['Tugas', 'yang', 'berhubungan', 'dengan', 'tekanan', 'darah'], 'blood_pressure'), (['Entri', 'data', 'tekanan', 'darah'], 'blood_pressure'), (['Saya', 'ingin', 'mencatat', 'hasil', 'tekanan', 'darah'], 'blood_pressure'), (['Manajemen', 'data', 'tekanan', 'darah'], 'blood_pressure'), (['Saya', 'ingin', 'mencari', 'riwayat', 'hasil', 'tekanan', 'darah'], 'blood_pressure_search'), (['Tekanan', 'darah', 'untuk', 'pasien'], 'blood_pressure_search'), (['Muat', 'hasil', 'tekanan', 'darah', 'pasien'], 'blood_pressure_search'), (['Tampilkan', 'hasil', 'tekanan', 'darah', 'untuk', 'pasien'], 'blood_pressure_search'), (['Temukan', 'hasil', 'tekanan', 'darah', 'dengan', 'ID'], 'blood_pressure_search'), (['Carikan', 'aku', 'apotek'], 'pharmacy_search'), (['Temukan', 'apotek'], 'pharmacy_search'), (['Daftar', 'apotek', 'terdekat'], 'pharmacy_search'), (['Cari', 'apotek'], 'pharmacy_search'), (['Cari', 'apotek'], 'pharmacy_search'), (['Cari', 'rumah', 'sakit'], 'hospital_search'), (['Mencari', 'Rumah', 'Sakit', 'untuk', 'Memindahkan', 'Pasien'], 'hospital_search'), (['Saya', 'ingin', 'mencari', 'data', 'rumah', 'sakit'], 'hospital_search'), (['Pencarian', 'rumah', 'sakit', 'untuk', 'pasien'], 'hospital_search'), (['Mencari', 'detail', 'rumah', 'sakit'], 'hospital_search')]\n"
     ]
    }
   ],
   "source": [
    "for intent in intents['intents']:\n",
    "    for pattern in intent['patterns']:\n",
    "        #tokenize each word\n",
    "        word = nltk.word_tokenize(pattern)\n",
    "        words.extend(word)\n",
    "        #add documents in the corpus\n",
    "        documents.append((word, intent['tag']))\n",
    "        # add to our classes list\n",
    "        if intent['tag'] not in classes:\n",
    "            classes.append(intent['tag'])\n",
    "print(documents)"
   ]
  },
  {
   "cell_type": "code",
   "execution_count": 4,
   "metadata": {
    "colab": {
     "base_uri": "https://localhost:8080/"
    },
    "id": "_6OSMa49obgx",
    "outputId": "c7abc407-fabf-46fc-d9a1-cfa643a0189f"
   },
   "outputs": [
    {
     "name": "stdout",
     "output_type": "stream",
     "text": [
      "48 documents\n",
      "10 classes ['adverse_drug', 'blood_pressure', 'blood_pressure_search', 'goodbye', 'greeting', 'hospital_search', 'options', 'pharmacy_search', 'salam', 'thanks']\n",
      "85 unique lemmatized words ['ada', 'aku', 'apa', 'apotek', 'assalamualaikum', 'bagaimana', 'bantu', 'banyak', 'berhubungan', 'beri', 'bisa', 'bisakah', 'buka', 'buruk', 'bye', 'cara', 'cari', 'carikan', 'cocok', 'dadah', 'daftar', 'dahh', 'darah', 'data', 'dengan', 'detail', 'disana', 'efek', 'entri', 'halo', 'hasil', 'hei', 'id', 'ingin', 'jumpa', 'kabar', 'kamu', 'kasih', 'kuy', 'lakukan', 'makasih', 'mana', 'manajemen', 'membantu', 'membantuku', 'memeriksa', 'memiliki', 'memindahkan', 'mencari', 'mencatat', 'menyebabkan', 'merugikan', 'modul', 'muat', 'obat', 'obat-obatan', 'orang', 'pasien', 'pencarian', 'perilaku', 'reaksi', 'riwayat', 'rumah', 'sakit', 'salam', 'sampai', 'samping', 'sangat', 'saya', 'selamat', 'semua', 'tampilkan', 'tawarkan', 'tekanan', 'telah', 'temukan', 'terdekat', 'terima', 'thanks', 'tidak', 'tinggal', 'tugas', 'untuk', 'woy', 'yang']\n"
     ]
    }
   ],
   "source": [
    "# lemmaztize and lower each word and remove duplicates\n",
    "words = [lemmatizer.lemmatize(w.lower()) for w in words if w not in ignore_letters]\n",
    "words = sorted(list(set(words)))\n",
    "\n",
    "# sort classes\n",
    "classes = sorted(list(set(classes)))\n",
    "\n",
    "# documents = combination between patterns and intents\n",
    "print (len(documents), \"documents\")\n",
    "\n",
    "# classes = intents\n",
    "print (len(classes), \"classes\", classes)\n",
    "\n",
    "# words = all words, vocabulary\n",
    "print (len(words), \"unique lemmatized words\", words)"
   ]
  },
  {
   "cell_type": "code",
   "execution_count": 5,
   "metadata": {
    "id": "nVxKTDmOopFT"
   },
   "outputs": [],
   "source": [
    "pickle.dump(words,open('words.pkl','wb'))\n",
    "pickle.dump(classes,open('classes.pkl','wb'))"
   ]
  },
  {
   "cell_type": "code",
   "execution_count": 6,
   "metadata": {
    "id": "t7dOtcp2osBE"
   },
   "outputs": [],
   "source": [
    "# create our training data\n",
    "training = []\n",
    "\n",
    "# create an empty array for our output\n",
    "output_empty = [0] * len(classes)\n",
    "\n",
    "# training set, bag of words for each sentence\n",
    "for doc in documents:\n",
    "    # initialize our bag of words\n",
    "    bag = []\n",
    "    # list of tokenized words for the pattern\n",
    "    pattern_words = doc[0]\n",
    "    # lemmatize each word - create base word, in attempt to represent related words\n",
    "    pattern_words = [lemmatizer.lemmatize(word.lower()) for word in pattern_words]\n",
    "    # create our bag of words array with 1, if word match found in current pattern\n",
    "    for word in words:\n",
    "        bag.append(1) if word in pattern_words else bag.append(0)\n",
    "        \n",
    "    # output is a '0' for each tag and '1' for current tag (for each pattern)\n",
    "    output_row = list(output_empty)\n",
    "    output_row[classes.index(doc[1])] = 1\n",
    "    \n",
    "    training.append([bag, output_row])"
   ]
  },
  {
   "cell_type": "code",
   "execution_count": 7,
   "metadata": {
    "colab": {
     "base_uri": "https://localhost:8080/"
    },
    "id": "H9Rhn7Zpo0Bh",
    "outputId": "0b11d3e7-67fa-478a-f6ef-c6a9617a3778"
   },
   "outputs": [
    {
     "name": "stdout",
     "output_type": "stream",
     "text": [
      "Training data created\n"
     ]
    },
    {
     "name": "stderr",
     "output_type": "stream",
     "text": [
      "C:\\Users\\Rama\\AppData\\Local\\Temp\\ipykernel_9208\\810444173.py:3: VisibleDeprecationWarning: Creating an ndarray from ragged nested sequences (which is a list-or-tuple of lists-or-tuples-or ndarrays with different lengths or shapes) is deprecated. If you meant to do this, you must specify 'dtype=object' when creating the ndarray.\n",
      "  training = np.array(training)\n"
     ]
    }
   ],
   "source": [
    "# shuffle our features and turn into np.array\n",
    "random.shuffle(training)\n",
    "training = np.array(training)\n",
    "\n",
    "# create train and test lists. X - patterns, Y - intents\n",
    "train_x = list(training[:,0])\n",
    "train_y = list(training[:,1])\n",
    "print(\"Training data created\")"
   ]
  },
  {
   "cell_type": "code",
   "execution_count": 8,
   "metadata": {
    "id": "YLw4xv6eo40c"
   },
   "outputs": [],
   "source": [
    "# Create model - 3 layers. First layer 128 neurons, second layer 64 neurons and 3rd output layer contains number of neurons\n",
    "# equal to number of intents to predict output intent with softmax\n",
    "model = Sequential()\n",
    "model.add(Dense(128, input_shape=(len(train_x[0]),), activation='relu'))\n",
    "model.add(Dropout(0.5))\n",
    "model.add(Dense(64, activation='relu'))\n",
    "model.add(Dropout(0.5))\n",
    "model.add(Dense(len(train_y[0]), activation='softmax'))"
   ]
  },
  {
   "cell_type": "code",
   "execution_count": 9,
   "metadata": {
    "id": "0HsbFgtFo8R3"
   },
   "outputs": [
    {
     "name": "stderr",
     "output_type": "stream",
     "text": [
      "C:\\Users\\Rama\\anaconda3\\envs\\firstenv\\lib\\site-packages\\keras\\optimizers\\optimizer_v2\\gradient_descent.py:108: UserWarning: The `lr` argument is deprecated, use `learning_rate` instead.\n",
      "  super(SGD, self).__init__(name, **kwargs)\n"
     ]
    }
   ],
   "source": [
    "# Compile model. Stochastic gradient descent with Nesterov accelerated gradient gives good results for this model\n",
    "sgd = SGD(lr=0.01, decay=1e-6, momentum=0.9, nesterov=True)\n",
    "model.compile(loss='categorical_crossentropy', optimizer=sgd, metrics=['accuracy'])"
   ]
  },
  {
   "cell_type": "code",
   "execution_count": 10,
   "metadata": {
    "colab": {
     "base_uri": "https://localhost:8080/"
    },
    "id": "OHl4OxM5pAQ4",
    "outputId": "47484cc0-d1d0-489c-ccf0-edde92e1d8ac"
   },
   "outputs": [
    {
     "name": "stdout",
     "output_type": "stream",
     "text": [
      "Epoch 1/200\n",
      "10/10 [==============================] - 1s 5ms/step - loss: 2.3341 - accuracy: 0.1042\n",
      "Epoch 2/200\n",
      "10/10 [==============================] - 0s 5ms/step - loss: 2.2936 - accuracy: 0.1458\n",
      "Epoch 3/200\n",
      "10/10 [==============================] - 0s 5ms/step - loss: 2.1647 - accuracy: 0.1875\n",
      "Epoch 4/200\n",
      "10/10 [==============================] - 0s 4ms/step - loss: 2.0290 - accuracy: 0.3333\n",
      "Epoch 5/200\n",
      "10/10 [==============================] - 0s 4ms/step - loss: 1.9081 - accuracy: 0.4167\n",
      "Epoch 6/200\n",
      "10/10 [==============================] - 0s 4ms/step - loss: 1.9057 - accuracy: 0.4375\n",
      "Epoch 7/200\n",
      "10/10 [==============================] - 0s 4ms/step - loss: 1.7601 - accuracy: 0.5000\n",
      "Epoch 8/200\n",
      "10/10 [==============================] - 0s 5ms/step - loss: 1.6204 - accuracy: 0.5417\n",
      "Epoch 9/200\n",
      "10/10 [==============================] - 0s 5ms/step - loss: 1.5486 - accuracy: 0.5833\n",
      "Epoch 10/200\n",
      "10/10 [==============================] - 0s 5ms/step - loss: 1.3740 - accuracy: 0.6250\n",
      "Epoch 11/200\n",
      "10/10 [==============================] - 0s 4ms/step - loss: 1.4298 - accuracy: 0.5833\n",
      "Epoch 12/200\n",
      "10/10 [==============================] - 0s 4ms/step - loss: 1.1812 - accuracy: 0.6458\n",
      "Epoch 13/200\n",
      "10/10 [==============================] - 0s 4ms/step - loss: 1.0873 - accuracy: 0.7292\n",
      "Epoch 14/200\n",
      "10/10 [==============================] - 0s 4ms/step - loss: 1.1067 - accuracy: 0.6667\n",
      "Epoch 15/200\n",
      "10/10 [==============================] - 0s 5ms/step - loss: 0.8853 - accuracy: 0.7917\n",
      "Epoch 16/200\n",
      "10/10 [==============================] - 0s 6ms/step - loss: 0.8338 - accuracy: 0.7917\n",
      "Epoch 17/200\n",
      "10/10 [==============================] - 0s 5ms/step - loss: 0.8275 - accuracy: 0.7500\n",
      "Epoch 18/200\n",
      "10/10 [==============================] - 0s 5ms/step - loss: 0.8109 - accuracy: 0.7917\n",
      "Epoch 19/200\n",
      "10/10 [==============================] - 0s 5ms/step - loss: 0.7150 - accuracy: 0.8750\n",
      "Epoch 20/200\n",
      "10/10 [==============================] - 0s 5ms/step - loss: 0.7128 - accuracy: 0.7708\n",
      "Epoch 21/200\n",
      "10/10 [==============================] - 0s 5ms/step - loss: 0.4615 - accuracy: 0.8958\n",
      "Epoch 22/200\n",
      "10/10 [==============================] - 0s 5ms/step - loss: 0.6104 - accuracy: 0.8750\n",
      "Epoch 23/200\n",
      "10/10 [==============================] - 0s 5ms/step - loss: 0.5698 - accuracy: 0.8125\n",
      "Epoch 24/200\n",
      "10/10 [==============================] - 0s 4ms/step - loss: 0.5450 - accuracy: 0.8542\n",
      "Epoch 25/200\n",
      "10/10 [==============================] - 0s 4ms/step - loss: 0.4561 - accuracy: 0.8750\n",
      "Epoch 26/200\n",
      "10/10 [==============================] - 0s 5ms/step - loss: 0.4281 - accuracy: 0.9583\n",
      "Epoch 27/200\n",
      "10/10 [==============================] - 0s 4ms/step - loss: 0.3986 - accuracy: 0.8958\n",
      "Epoch 28/200\n",
      "10/10 [==============================] - 0s 4ms/step - loss: 0.4343 - accuracy: 0.9167\n",
      "Epoch 29/200\n",
      "10/10 [==============================] - 0s 4ms/step - loss: 0.3396 - accuracy: 0.9167\n",
      "Epoch 30/200\n",
      "10/10 [==============================] - 0s 5ms/step - loss: 0.4857 - accuracy: 0.9167\n",
      "Epoch 31/200\n",
      "10/10 [==============================] - 0s 5ms/step - loss: 0.4572 - accuracy: 0.8750\n",
      "Epoch 32/200\n",
      "10/10 [==============================] - 0s 5ms/step - loss: 0.3486 - accuracy: 0.9167\n",
      "Epoch 33/200\n",
      "10/10 [==============================] - 0s 4ms/step - loss: 0.3203 - accuracy: 0.9583\n",
      "Epoch 34/200\n",
      "10/10 [==============================] - 0s 4ms/step - loss: 0.3127 - accuracy: 0.9375\n",
      "Epoch 35/200\n",
      "10/10 [==============================] - 0s 4ms/step - loss: 0.2450 - accuracy: 0.9375\n",
      "Epoch 36/200\n",
      "10/10 [==============================] - 0s 4ms/step - loss: 0.3095 - accuracy: 0.9375\n",
      "Epoch 37/200\n",
      "10/10 [==============================] - 0s 5ms/step - loss: 0.3448 - accuracy: 0.8333\n",
      "Epoch 38/200\n",
      "10/10 [==============================] - 0s 5ms/step - loss: 0.1757 - accuracy: 0.9583\n",
      "Epoch 39/200\n",
      "10/10 [==============================] - 0s 5ms/step - loss: 0.2663 - accuracy: 0.9167\n",
      "Epoch 40/200\n",
      "10/10 [==============================] - 0s 5ms/step - loss: 0.1869 - accuracy: 0.9792\n",
      "Epoch 41/200\n",
      "10/10 [==============================] - 0s 4ms/step - loss: 0.1869 - accuracy: 0.9792\n",
      "Epoch 42/200\n",
      "10/10 [==============================] - 0s 5ms/step - loss: 0.1279 - accuracy: 0.9792\n",
      "Epoch 43/200\n",
      "10/10 [==============================] - 0s 4ms/step - loss: 0.2226 - accuracy: 0.9167\n",
      "Epoch 44/200\n",
      "10/10 [==============================] - 0s 5ms/step - loss: 0.2321 - accuracy: 0.9167\n",
      "Epoch 45/200\n",
      "10/10 [==============================] - 0s 4ms/step - loss: 0.1730 - accuracy: 0.9375\n",
      "Epoch 46/200\n",
      "10/10 [==============================] - 0s 5ms/step - loss: 0.1176 - accuracy: 0.9792\n",
      "Epoch 47/200\n",
      "10/10 [==============================] - 0s 5ms/step - loss: 0.1904 - accuracy: 0.9583\n",
      "Epoch 48/200\n",
      "10/10 [==============================] - 0s 5ms/step - loss: 0.1805 - accuracy: 0.9792\n",
      "Epoch 49/200\n",
      "10/10 [==============================] - 0s 5ms/step - loss: 0.1796 - accuracy: 0.9583\n",
      "Epoch 50/200\n",
      "10/10 [==============================] - 0s 5ms/step - loss: 0.1634 - accuracy: 0.9583\n",
      "Epoch 51/200\n",
      "10/10 [==============================] - 0s 4ms/step - loss: 0.2362 - accuracy: 0.8958\n",
      "Epoch 52/200\n",
      "10/10 [==============================] - 0s 4ms/step - loss: 0.1604 - accuracy: 0.9583\n",
      "Epoch 53/200\n",
      "10/10 [==============================] - 0s 4ms/step - loss: 0.1885 - accuracy: 0.9167\n",
      "Epoch 54/200\n",
      "10/10 [==============================] - 0s 7ms/step - loss: 0.1076 - accuracy: 0.9792\n",
      "Epoch 55/200\n",
      "10/10 [==============================] - 0s 4ms/step - loss: 0.0704 - accuracy: 1.0000\n",
      "Epoch 56/200\n",
      "10/10 [==============================] - 0s 4ms/step - loss: 0.1753 - accuracy: 0.9375\n",
      "Epoch 57/200\n",
      "10/10 [==============================] - 0s 4ms/step - loss: 0.0688 - accuracy: 0.9792\n",
      "Epoch 58/200\n",
      "10/10 [==============================] - 0s 5ms/step - loss: 0.1438 - accuracy: 0.9792\n",
      "Epoch 59/200\n",
      "10/10 [==============================] - 0s 4ms/step - loss: 0.0827 - accuracy: 1.0000\n",
      "Epoch 60/200\n",
      "10/10 [==============================] - 0s 4ms/step - loss: 0.1518 - accuracy: 0.9375\n",
      "Epoch 61/200\n",
      "10/10 [==============================] - 0s 4ms/step - loss: 0.1098 - accuracy: 1.0000\n",
      "Epoch 62/200\n",
      "10/10 [==============================] - 0s 4ms/step - loss: 0.1489 - accuracy: 0.9583\n",
      "Epoch 63/200\n",
      "10/10 [==============================] - 0s 4ms/step - loss: 0.0630 - accuracy: 0.9792\n",
      "Epoch 64/200\n",
      "10/10 [==============================] - 0s 4ms/step - loss: 0.1132 - accuracy: 1.0000\n",
      "Epoch 65/200\n",
      "10/10 [==============================] - 0s 4ms/step - loss: 0.1152 - accuracy: 0.9792\n",
      "Epoch 66/200\n",
      "10/10 [==============================] - 0s 4ms/step - loss: 0.0697 - accuracy: 1.0000\n",
      "Epoch 67/200\n",
      "10/10 [==============================] - 0s 5ms/step - loss: 0.1132 - accuracy: 0.9583\n",
      "Epoch 68/200\n",
      "10/10 [==============================] - 0s 5ms/step - loss: 0.0965 - accuracy: 1.0000\n",
      "Epoch 69/200\n",
      "10/10 [==============================] - 0s 4ms/step - loss: 0.1033 - accuracy: 0.9583\n",
      "Epoch 70/200\n",
      "10/10 [==============================] - 0s 4ms/step - loss: 0.0418 - accuracy: 1.0000\n",
      "Epoch 71/200\n",
      "10/10 [==============================] - 0s 4ms/step - loss: 0.0935 - accuracy: 0.9792\n",
      "Epoch 72/200\n",
      "10/10 [==============================] - 0s 4ms/step - loss: 0.0732 - accuracy: 0.9792\n",
      "Epoch 73/200\n",
      "10/10 [==============================] - 0s 4ms/step - loss: 0.1030 - accuracy: 0.9792\n",
      "Epoch 74/200\n",
      "10/10 [==============================] - 0s 4ms/step - loss: 0.0824 - accuracy: 0.9583\n",
      "Epoch 75/200\n",
      "10/10 [==============================] - 0s 4ms/step - loss: 0.1222 - accuracy: 0.9792\n",
      "Epoch 76/200\n",
      "10/10 [==============================] - 0s 4ms/step - loss: 0.1093 - accuracy: 0.9792\n",
      "Epoch 77/200\n",
      "10/10 [==============================] - 0s 4ms/step - loss: 0.0955 - accuracy: 0.9792\n",
      "Epoch 78/200\n",
      "10/10 [==============================] - 0s 5ms/step - loss: 0.0553 - accuracy: 0.9792\n",
      "Epoch 79/200\n",
      "10/10 [==============================] - 0s 5ms/step - loss: 0.0678 - accuracy: 1.0000\n",
      "Epoch 80/200\n",
      "10/10 [==============================] - 0s 5ms/step - loss: 0.0501 - accuracy: 0.9792\n",
      "Epoch 81/200\n",
      "10/10 [==============================] - 0s 4ms/step - loss: 0.0445 - accuracy: 1.0000\n",
      "Epoch 82/200\n",
      "10/10 [==============================] - 0s 4ms/step - loss: 0.0454 - accuracy: 1.0000\n",
      "Epoch 83/200\n"
     ]
    },
    {
     "name": "stdout",
     "output_type": "stream",
     "text": [
      "10/10 [==============================] - 0s 4ms/step - loss: 0.0903 - accuracy: 0.9583\n",
      "Epoch 84/200\n",
      "10/10 [==============================] - 0s 4ms/step - loss: 0.0440 - accuracy: 1.0000\n",
      "Epoch 85/200\n",
      "10/10 [==============================] - 0s 4ms/step - loss: 0.0468 - accuracy: 0.9792\n",
      "Epoch 86/200\n",
      "10/10 [==============================] - 0s 4ms/step - loss: 0.0794 - accuracy: 0.9792\n",
      "Epoch 87/200\n",
      "10/10 [==============================] - 0s 4ms/step - loss: 0.0684 - accuracy: 1.0000\n",
      "Epoch 88/200\n",
      "10/10 [==============================] - 0s 4ms/step - loss: 0.1118 - accuracy: 0.9792\n",
      "Epoch 89/200\n",
      "10/10 [==============================] - 0s 4ms/step - loss: 0.0593 - accuracy: 1.0000\n",
      "Epoch 90/200\n",
      "10/10 [==============================] - 0s 4ms/step - loss: 0.2131 - accuracy: 0.9167\n",
      "Epoch 91/200\n",
      "10/10 [==============================] - 0s 4ms/step - loss: 0.0455 - accuracy: 1.0000\n",
      "Epoch 92/200\n",
      "10/10 [==============================] - 0s 4ms/step - loss: 0.0818 - accuracy: 1.0000\n",
      "Epoch 93/200\n",
      "10/10 [==============================] - 0s 4ms/step - loss: 0.0392 - accuracy: 1.0000\n",
      "Epoch 94/200\n",
      "10/10 [==============================] - 0s 4ms/step - loss: 0.0734 - accuracy: 0.9792\n",
      "Epoch 95/200\n",
      "10/10 [==============================] - 0s 4ms/step - loss: 0.0991 - accuracy: 0.9583\n",
      "Epoch 96/200\n",
      "10/10 [==============================] - 0s 4ms/step - loss: 0.0352 - accuracy: 1.0000\n",
      "Epoch 97/200\n",
      "10/10 [==============================] - 0s 4ms/step - loss: 0.0612 - accuracy: 0.9792\n",
      "Epoch 98/200\n",
      "10/10 [==============================] - 0s 4ms/step - loss: 0.0520 - accuracy: 0.9792\n",
      "Epoch 99/200\n",
      "10/10 [==============================] - 0s 4ms/step - loss: 0.0626 - accuracy: 0.9792\n",
      "Epoch 100/200\n",
      "10/10 [==============================] - 0s 4ms/step - loss: 0.0649 - accuracy: 1.0000\n",
      "Epoch 101/200\n",
      "10/10 [==============================] - 0s 4ms/step - loss: 0.1279 - accuracy: 0.9375\n",
      "Epoch 102/200\n",
      "10/10 [==============================] - 0s 4ms/step - loss: 0.0235 - accuracy: 1.0000\n",
      "Epoch 103/200\n",
      "10/10 [==============================] - 0s 4ms/step - loss: 0.0287 - accuracy: 1.0000\n",
      "Epoch 104/200\n",
      "10/10 [==============================] - 0s 4ms/step - loss: 0.0281 - accuracy: 1.0000\n",
      "Epoch 105/200\n",
      "10/10 [==============================] - 0s 4ms/step - loss: 0.0260 - accuracy: 1.0000\n",
      "Epoch 106/200\n",
      "10/10 [==============================] - 0s 4ms/step - loss: 0.0075 - accuracy: 1.0000\n",
      "Epoch 107/200\n",
      "10/10 [==============================] - 0s 4ms/step - loss: 0.0544 - accuracy: 1.0000\n",
      "Epoch 108/200\n",
      "10/10 [==============================] - 0s 4ms/step - loss: 0.0743 - accuracy: 0.9792\n",
      "Epoch 109/200\n",
      "10/10 [==============================] - 0s 4ms/step - loss: 0.0336 - accuracy: 1.0000\n",
      "Epoch 110/200\n",
      "10/10 [==============================] - 0s 4ms/step - loss: 0.0651 - accuracy: 1.0000\n",
      "Epoch 111/200\n",
      "10/10 [==============================] - 0s 4ms/step - loss: 0.1014 - accuracy: 0.9583\n",
      "Epoch 112/200\n",
      "10/10 [==============================] - 0s 4ms/step - loss: 0.0269 - accuracy: 1.0000\n",
      "Epoch 113/200\n",
      "10/10 [==============================] - 0s 4ms/step - loss: 0.0861 - accuracy: 0.9583\n",
      "Epoch 114/200\n",
      "10/10 [==============================] - 0s 4ms/step - loss: 0.0441 - accuracy: 0.9792\n",
      "Epoch 115/200\n",
      "10/10 [==============================] - 0s 4ms/step - loss: 0.0215 - accuracy: 1.0000\n",
      "Epoch 116/200\n",
      "10/10 [==============================] - 0s 4ms/step - loss: 0.1059 - accuracy: 0.9792\n",
      "Epoch 117/200\n",
      "10/10 [==============================] - 0s 4ms/step - loss: 0.0589 - accuracy: 0.9792\n",
      "Epoch 118/200\n",
      "10/10 [==============================] - 0s 4ms/step - loss: 0.0560 - accuracy: 0.9792\n",
      "Epoch 119/200\n",
      "10/10 [==============================] - 0s 4ms/step - loss: 0.0219 - accuracy: 1.0000\n",
      "Epoch 120/200\n",
      "10/10 [==============================] - 0s 4ms/step - loss: 0.0273 - accuracy: 1.0000\n",
      "Epoch 121/200\n",
      "10/10 [==============================] - 0s 4ms/step - loss: 0.0229 - accuracy: 1.0000\n",
      "Epoch 122/200\n",
      "10/10 [==============================] - 0s 7ms/step - loss: 0.0110 - accuracy: 1.0000\n",
      "Epoch 123/200\n",
      "10/10 [==============================] - 0s 4ms/step - loss: 0.0733 - accuracy: 0.9792\n",
      "Epoch 124/200\n",
      "10/10 [==============================] - 0s 4ms/step - loss: 0.0699 - accuracy: 0.9792\n",
      "Epoch 125/200\n",
      "10/10 [==============================] - 0s 4ms/step - loss: 0.0093 - accuracy: 1.0000\n",
      "Epoch 126/200\n",
      "10/10 [==============================] - 0s 4ms/step - loss: 0.0262 - accuracy: 1.0000\n",
      "Epoch 127/200\n",
      "10/10 [==============================] - 0s 4ms/step - loss: 0.0757 - accuracy: 0.9583\n",
      "Epoch 128/200\n",
      "10/10 [==============================] - 0s 4ms/step - loss: 0.0531 - accuracy: 0.9792\n",
      "Epoch 129/200\n",
      "10/10 [==============================] - 0s 4ms/step - loss: 0.0744 - accuracy: 1.0000\n",
      "Epoch 130/200\n",
      "10/10 [==============================] - 0s 4ms/step - loss: 0.0119 - accuracy: 1.0000\n",
      "Epoch 131/200\n",
      "10/10 [==============================] - 0s 4ms/step - loss: 0.0372 - accuracy: 1.0000\n",
      "Epoch 132/200\n",
      "10/10 [==============================] - 0s 4ms/step - loss: 0.0193 - accuracy: 1.0000\n",
      "Epoch 133/200\n",
      "10/10 [==============================] - 0s 4ms/step - loss: 0.0279 - accuracy: 1.0000\n",
      "Epoch 134/200\n",
      "10/10 [==============================] - 0s 4ms/step - loss: 0.0467 - accuracy: 0.9792\n",
      "Epoch 135/200\n",
      "10/10 [==============================] - 0s 4ms/step - loss: 0.0177 - accuracy: 1.0000\n",
      "Epoch 136/200\n",
      "10/10 [==============================] - 0s 4ms/step - loss: 0.0606 - accuracy: 0.9583\n",
      "Epoch 137/200\n",
      "10/10 [==============================] - 0s 4ms/step - loss: 0.0596 - accuracy: 0.9792\n",
      "Epoch 138/200\n",
      "10/10 [==============================] - 0s 4ms/step - loss: 0.0524 - accuracy: 0.9792\n",
      "Epoch 139/200\n",
      "10/10 [==============================] - 0s 4ms/step - loss: 0.0567 - accuracy: 0.9792\n",
      "Epoch 140/200\n",
      "10/10 [==============================] - 0s 4ms/step - loss: 0.0259 - accuracy: 1.0000\n",
      "Epoch 141/200\n",
      "10/10 [==============================] - 0s 4ms/step - loss: 0.0127 - accuracy: 1.0000\n",
      "Epoch 142/200\n",
      "10/10 [==============================] - 0s 4ms/step - loss: 0.0349 - accuracy: 1.0000\n",
      "Epoch 143/200\n",
      "10/10 [==============================] - 0s 4ms/step - loss: 0.0449 - accuracy: 0.9792\n",
      "Epoch 144/200\n",
      "10/10 [==============================] - 0s 4ms/step - loss: 0.0384 - accuracy: 1.0000\n",
      "Epoch 145/200\n",
      "10/10 [==============================] - 0s 4ms/step - loss: 0.0153 - accuracy: 1.0000\n",
      "Epoch 146/200\n",
      "10/10 [==============================] - 0s 4ms/step - loss: 0.0135 - accuracy: 1.0000\n",
      "Epoch 147/200\n",
      "10/10 [==============================] - 0s 4ms/step - loss: 0.0085 - accuracy: 1.0000\n",
      "Epoch 148/200\n",
      "10/10 [==============================] - 0s 4ms/step - loss: 0.0133 - accuracy: 1.0000\n",
      "Epoch 149/200\n",
      "10/10 [==============================] - 0s 4ms/step - loss: 0.0312 - accuracy: 0.9792\n",
      "Epoch 150/200\n",
      "10/10 [==============================] - 0s 4ms/step - loss: 0.0330 - accuracy: 1.0000\n",
      "Epoch 151/200\n",
      "10/10 [==============================] - 0s 4ms/step - loss: 0.0328 - accuracy: 1.0000\n",
      "Epoch 152/200\n",
      "10/10 [==============================] - 0s 4ms/step - loss: 0.0082 - accuracy: 1.0000\n",
      "Epoch 153/200\n",
      "10/10 [==============================] - 0s 4ms/step - loss: 0.0394 - accuracy: 1.0000\n",
      "Epoch 154/200\n",
      "10/10 [==============================] - 0s 4ms/step - loss: 0.0898 - accuracy: 0.9583\n",
      "Epoch 155/200\n",
      "10/10 [==============================] - 0s 4ms/step - loss: 0.0140 - accuracy: 1.0000\n",
      "Epoch 156/200\n",
      "10/10 [==============================] - 0s 4ms/step - loss: 0.0394 - accuracy: 1.0000\n",
      "Epoch 157/200\n",
      "10/10 [==============================] - 0s 4ms/step - loss: 0.0269 - accuracy: 1.0000\n",
      "Epoch 158/200\n",
      "10/10 [==============================] - 0s 4ms/step - loss: 0.0459 - accuracy: 1.0000\n",
      "Epoch 159/200\n",
      "10/10 [==============================] - 0s 4ms/step - loss: 0.0226 - accuracy: 1.0000\n",
      "Epoch 160/200\n",
      "10/10 [==============================] - 0s 4ms/step - loss: 0.0673 - accuracy: 0.9792\n",
      "Epoch 161/200\n",
      "10/10 [==============================] - 0s 4ms/step - loss: 0.0086 - accuracy: 1.0000\n",
      "Epoch 162/200\n",
      "10/10 [==============================] - 0s 4ms/step - loss: 0.0534 - accuracy: 1.0000\n",
      "Epoch 163/200\n",
      "10/10 [==============================] - 0s 4ms/step - loss: 0.0194 - accuracy: 1.0000\n",
      "Epoch 164/200\n"
     ]
    },
    {
     "name": "stdout",
     "output_type": "stream",
     "text": [
      "10/10 [==============================] - 0s 4ms/step - loss: 0.0295 - accuracy: 1.0000\n",
      "Epoch 165/200\n",
      "10/10 [==============================] - 0s 4ms/step - loss: 0.0479 - accuracy: 0.9583\n",
      "Epoch 166/200\n",
      "10/10 [==============================] - 0s 4ms/step - loss: 0.0372 - accuracy: 0.9792\n",
      "Epoch 167/200\n",
      "10/10 [==============================] - 0s 4ms/step - loss: 0.0335 - accuracy: 1.0000\n",
      "Epoch 168/200\n",
      "10/10 [==============================] - 0s 4ms/step - loss: 0.0061 - accuracy: 1.0000\n",
      "Epoch 169/200\n",
      "10/10 [==============================] - 0s 4ms/step - loss: 0.0127 - accuracy: 1.0000\n",
      "Epoch 170/200\n",
      "10/10 [==============================] - 0s 4ms/step - loss: 0.0219 - accuracy: 1.0000\n",
      "Epoch 171/200\n",
      "10/10 [==============================] - 0s 4ms/step - loss: 0.0137 - accuracy: 1.0000\n",
      "Epoch 172/200\n",
      "10/10 [==============================] - 0s 4ms/step - loss: 0.0523 - accuracy: 0.9792\n",
      "Epoch 173/200\n",
      "10/10 [==============================] - 0s 4ms/step - loss: 0.0184 - accuracy: 1.0000\n",
      "Epoch 174/200\n",
      "10/10 [==============================] - 0s 4ms/step - loss: 0.0082 - accuracy: 1.0000\n",
      "Epoch 175/200\n",
      "10/10 [==============================] - 0s 4ms/step - loss: 0.0134 - accuracy: 1.0000\n",
      "Epoch 176/200\n",
      "10/10 [==============================] - 0s 4ms/step - loss: 0.1309 - accuracy: 0.9792\n",
      "Epoch 177/200\n",
      "10/10 [==============================] - 0s 4ms/step - loss: 0.0510 - accuracy: 0.9583\n",
      "Epoch 178/200\n",
      "10/10 [==============================] - 0s 4ms/step - loss: 0.0320 - accuracy: 1.0000\n",
      "Epoch 179/200\n",
      "10/10 [==============================] - 0s 4ms/step - loss: 0.0110 - accuracy: 1.0000\n",
      "Epoch 180/200\n",
      "10/10 [==============================] - 0s 4ms/step - loss: 0.0195 - accuracy: 1.0000\n",
      "Epoch 181/200\n",
      "10/10 [==============================] - 0s 4ms/step - loss: 0.0069 - accuracy: 1.0000\n",
      "Epoch 182/200\n",
      "10/10 [==============================] - 0s 4ms/step - loss: 0.0522 - accuracy: 1.0000\n",
      "Epoch 183/200\n",
      "10/10 [==============================] - 0s 4ms/step - loss: 0.0183 - accuracy: 1.0000\n",
      "Epoch 184/200\n",
      "10/10 [==============================] - 0s 4ms/step - loss: 0.0578 - accuracy: 0.9792\n",
      "Epoch 185/200\n",
      "10/10 [==============================] - 0s 4ms/step - loss: 0.0136 - accuracy: 1.0000\n",
      "Epoch 186/200\n",
      "10/10 [==============================] - 0s 3ms/step - loss: 0.0111 - accuracy: 1.0000\n",
      "Epoch 187/200\n",
      "10/10 [==============================] - 0s 4ms/step - loss: 0.0422 - accuracy: 0.9792\n",
      "Epoch 188/200\n",
      "10/10 [==============================] - 0s 4ms/step - loss: 0.0200 - accuracy: 0.9792\n",
      "Epoch 189/200\n",
      "10/10 [==============================] - 0s 3ms/step - loss: 0.0142 - accuracy: 1.0000\n",
      "Epoch 190/200\n",
      "10/10 [==============================] - 0s 4ms/step - loss: 0.0053 - accuracy: 1.0000\n",
      "Epoch 191/200\n",
      "10/10 [==============================] - 0s 4ms/step - loss: 0.0091 - accuracy: 1.0000\n",
      "Epoch 192/200\n",
      "10/10 [==============================] - 0s 4ms/step - loss: 0.0375 - accuracy: 1.0000\n",
      "Epoch 193/200\n",
      "10/10 [==============================] - 0s 4ms/step - loss: 0.0336 - accuracy: 0.9792\n",
      "Epoch 194/200\n",
      "10/10 [==============================] - 0s 7ms/step - loss: 0.0557 - accuracy: 0.9792\n",
      "Epoch 195/200\n",
      "10/10 [==============================] - 0s 4ms/step - loss: 0.0371 - accuracy: 0.9792\n",
      "Epoch 196/200\n",
      "10/10 [==============================] - 0s 4ms/step - loss: 0.0567 - accuracy: 0.9583\n",
      "Epoch 197/200\n",
      "10/10 [==============================] - 0s 4ms/step - loss: 0.0144 - accuracy: 1.0000\n",
      "Epoch 198/200\n",
      "10/10 [==============================] - 0s 4ms/step - loss: 0.0170 - accuracy: 1.0000\n",
      "Epoch 199/200\n",
      "10/10 [==============================] - 0s 4ms/step - loss: 0.0142 - accuracy: 1.0000\n",
      "Epoch 200/200\n",
      "10/10 [==============================] - 0s 4ms/step - loss: 0.0261 - accuracy: 1.0000\n",
      "model created\n"
     ]
    }
   ],
   "source": [
    "#fitting and saving the model \n",
    "hist = model.fit(np.array(train_x), np.array(train_y), epochs=200, batch_size=5, verbose=1)\n",
    "model.save('chatbot_model.h5', hist)\n",
    "\n",
    "print(\"model created\")"
   ]
  },
  {
   "cell_type": "markdown",
   "metadata": {
    "id": "T1qAx1wfpRxt"
   },
   "source": [
    "## GUI Interface"
   ]
  },
  {
   "cell_type": "code",
   "execution_count": 11,
   "metadata": {
    "id": "iauIH0wxpU1g"
   },
   "outputs": [],
   "source": [
    "from keras.models import load_model\n",
    "model = load_model('chatbot_model.h5')\n",
    "import tkinter\n",
    "from tkinter import *\n",
    "import json"
   ]
  },
  {
   "cell_type": "code",
   "execution_count": 12,
   "metadata": {
    "id": "jzWtWf9BppFI"
   },
   "outputs": [],
   "source": [
    "intents = json.loads(open('intents.json').read())\n",
    "words = pickle.load(open('words.pkl','rb'))\n",
    "classes = pickle.load(open('classes.pkl','rb'))"
   ]
  },
  {
   "cell_type": "code",
   "execution_count": 13,
   "metadata": {
    "id": "yxtk1Ujtps1-"
   },
   "outputs": [],
   "source": [
    "def clean_up_sentence(sentence):\n",
    "    # tokenize the pattern - splitting words into array\n",
    "    sentence_words = nltk.word_tokenize(sentence)\n",
    "    # stemming every word - reducing to base form\n",
    "    sentence_words = [lemmatizer.lemmatize(word.lower()) for word in sentence_words]\n",
    "    return sentence_words"
   ]
  },
  {
   "cell_type": "code",
   "execution_count": 14,
   "metadata": {
    "id": "uafWcVCnpvii"
   },
   "outputs": [],
   "source": [
    "# return bag of words array: 0 or 1 for words that exist in sentence\n",
    "def bag_of_words(sentence, words, show_details=True):\n",
    "    # tokenizing patterns\n",
    "    sentence_words = clean_up_sentence(sentence)\n",
    "    # bag of words - vocabulary matrix\n",
    "    bag = [0]*len(words)  \n",
    "    for s in sentence_words:\n",
    "        for i,word in enumerate(words):\n",
    "            if word == s: \n",
    "                # assign 1 if current word is in the vocabulary position\n",
    "                bag[i] = 1\n",
    "                if show_details:\n",
    "                    print (\"found in bag: %s\" % word)\n",
    "    return(np.array(bag))"
   ]
  },
  {
   "cell_type": "code",
   "execution_count": 15,
   "metadata": {
    "id": "Agitd1mqpy7v"
   },
   "outputs": [],
   "source": [
    "def predict_class(sentence):\n",
    "    # filter below  threshold predictions\n",
    "    p = bag_of_words(sentence, words,show_details=False)\n",
    "    res = model.predict(np.array([p]))[0]\n",
    "    ERROR_THRESHOLD = 0.25\n",
    "    results = [[i,r] for i,r in enumerate(res) if r>ERROR_THRESHOLD]\n",
    "    # sorting strength probability\n",
    "    results.sort(key=lambda x: x[1], reverse=True)\n",
    "    return_list = []\n",
    "    for r in results:\n",
    "        return_list.append({\"intent\": classes[r[0]], \"probability\": str(r[1])})\n",
    "    return return_list"
   ]
  },
  {
   "cell_type": "code",
   "execution_count": 16,
   "metadata": {
    "id": "07AnZDdip25h"
   },
   "outputs": [],
   "source": [
    "def getResponse(ints, intents_json):\n",
    "    tag = ints[0]['intent']\n",
    "    list_of_intents = intents_json['intents']\n",
    "    for i in list_of_intents:\n",
    "        if(i['tag']== tag):\n",
    "            result = random.choice(i['responses'])\n",
    "            break\n",
    "    return result"
   ]
  },
  {
   "cell_type": "code",
   "execution_count": 17,
   "metadata": {
    "id": "l370TNpQp5z4"
   },
   "outputs": [],
   "source": [
    "def send():\n",
    "    msg = EntryBox.get(\"1.0\",'end-1c').strip()\n",
    "    EntryBox.delete(\"0.0\",END)\n",
    "\n",
    "    if msg != '':\n",
    "        ChatBox.config(state=NORMAL)\n",
    "        ChatBox.insert(END, \"You: \" + msg + '\\n\\n')\n",
    "        ChatBox.config(foreground=\"#446665\", font=(\"Verdana\", 12 ))\n",
    "    \n",
    "        ints = predict_class(msg)\n",
    "        res = getResponse(ints, intents)\n",
    "        \n",
    "        ChatBox.insert(END, \"Bot: \" + res + '\\n\\n')\n",
    "            \n",
    "        ChatBox.config(state=DISABLED)\n",
    "        ChatBox.yview(END)"
   ]
  },
  {
   "cell_type": "code",
   "execution_count": 18,
   "metadata": {
    "colab": {
     "base_uri": "https://localhost:8080/",
     "height": 339
    },
    "id": "CfkFk9w1qCpo",
    "outputId": "452c699f-3121-41d6-f265-bbced923a6d3"
   },
   "outputs": [
    {
     "data": {
      "text/plain": [
       "''"
      ]
     },
     "execution_count": 18,
     "metadata": {},
     "output_type": "execute_result"
    }
   ],
   "source": [
    "root = Tk()\n",
    "root.title(\"Chatbot\")\n",
    "root.geometry(\"400x500\")\n",
    "root.resizable(width=FALSE, height=FALSE)"
   ]
  },
  {
   "cell_type": "code",
   "execution_count": 19,
   "metadata": {
    "id": "kkCgWh6IqvHz"
   },
   "outputs": [],
   "source": [
    "#Create Chat window\n",
    "ChatBox = Text(root, bd=0, bg=\"white\", height=\"8\", width=\"50\", font=\"Arial\",)\n",
    "\n",
    "ChatBox.config(state=DISABLED)"
   ]
  },
  {
   "cell_type": "code",
   "execution_count": 20,
   "metadata": {
    "id": "yYuC3vG8qyeS"
   },
   "outputs": [],
   "source": [
    "#Bind scrollbar to Chat window\n",
    "scrollbar = Scrollbar(root, command=ChatBox.yview, cursor=\"heart\")\n",
    "ChatBox['yscrollcommand'] = scrollbar.set"
   ]
  },
  {
   "cell_type": "code",
   "execution_count": 21,
   "metadata": {
    "id": "Lv1ilhQfq0ke"
   },
   "outputs": [],
   "source": [
    "#Create Button to send message\n",
    "SendButton = Button(root, font=(\"Verdana\",12,'bold'), text=\"Send\", width=\"12\", height=5,\n",
    "                    bd=0, bg=\"#f9a602\", activebackground=\"#3c9d9b\",fg='#000000',\n",
    "                    command= send )"
   ]
  },
  {
   "cell_type": "code",
   "execution_count": 22,
   "metadata": {
    "id": "MHCguLqYq2e5"
   },
   "outputs": [],
   "source": [
    "#Create the box to enter message\n",
    "EntryBox = Text(root, bd=0, bg=\"white\",width=\"29\", height=\"5\", font=\"Arial\")\n",
    "#EntryBox.bind(\"<Return>\", send)"
   ]
  },
  {
   "cell_type": "code",
   "execution_count": 23,
   "metadata": {
    "id": "dAQPsKt9q4s0"
   },
   "outputs": [
    {
     "name": "stdout",
     "output_type": "stream",
     "text": [
      "1/1 [==============================] - 0s 173ms/step\n",
      "1/1 [==============================] - 0s 26ms/step\n"
     ]
    }
   ],
   "source": [
    "#Place all components on the screen\n",
    "scrollbar.place(x=376,y=6, height=386)\n",
    "ChatBox.place(x=6,y=6, height=386, width=370)\n",
    "EntryBox.place(x=128, y=401, height=90, width=265)\n",
    "SendButton.place(x=6, y=401, height=90)\n",
    "\n",
    "root.mainloop()"
   ]
  }
 ],
 "metadata": {
  "colab": {
   "provenance": []
  },
  "kernelspec": {
   "display_name": "Python 3 (ipykernel)",
   "language": "python",
   "name": "python3"
  },
  "language_info": {
   "codemirror_mode": {
    "name": "ipython",
    "version": 3
   },
   "file_extension": ".py",
   "mimetype": "text/x-python",
   "name": "python",
   "nbconvert_exporter": "python",
   "pygments_lexer": "ipython3",
   "version": "3.10.4"
  }
 },
 "nbformat": 4,
 "nbformat_minor": 1
}
